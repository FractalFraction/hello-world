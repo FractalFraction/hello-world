{
  "cells": [
    {
      "cell_type": "markdown",
      "source": [
        "# Hello World\n",
        "\n",
        "The classical introductory exercise. Just say \"Hello, World!\".\n",
        "\n",
        "[\"Hello, World!\"](http://en.wikipedia.org/wiki/%22Hello,_world!%22_program) is\n",
        "the traditional first program for beginning programming in a new language\n",
        "or environment.\n",
        "\n",
        "The objectives are simple:\n",
        "\n",
        "- Write a function that returns the string \"Hello, World!\".\n",
        "- Run the test suite and make sure that it succeeds.\n",
        "- Submit your solution and check it at the website.\n",
        "\n",
        "If everything goes well, you will be ready to fetch your first real exercise.\n",
        "\n",
        "## Source\n",
        "\n",
        "This is an exercise to introduce users to using Exercism [http://en.wikipedia.org/wiki/%22Hello,_world!%22_program](http://en.wikipedia.org/wiki/%22Hello,_world!%22_program)\n",
        "\n",
        "## Version compatibility\n",
        "This exercise has been tested on Julia versions >=1.0.\n",
        "\n",
        "## Submitting Incomplete Solutions\n",
        "It's possible to submit an incomplete solution so you can see how others have completed the exercise."
      ],
      "metadata": {}
    },
    {
      "cell_type": "markdown",
      "source": [
        "## Your solution"
      ],
      "metadata": {}
    },
    {
      "cell_type": "code",
      "source": [
        "# submit\n",
        "function hello()\n",
        "    \"Hello, World!\"\n",
        "end"
      ],
      "outputs": [
        {
          "output_type": "execute_result",
          "execution_count": 3,
          "data": {
            "text/plain": "hello (generic function with 1 method)"
          },
          "metadata": {}
        }
      ],
      "execution_count": 3,
      "metadata": {
        "execution": {
          "iopub.status.busy": "2020-08-13T07:15:32.049Z",
          "iopub.execute_input": "2020-08-13T07:15:32.056Z",
          "iopub.status.idle": "2020-08-13T07:15:32.069Z"
        }
      }
    },
    {
      "cell_type": "markdown",
      "source": [
        "## Test suite"
      ],
      "metadata": {}
    },
    {
      "cell_type": "code",
      "source": [
        "#submit\n",
        "using Test\n",
        "\n",
        "# include(\"hello-world.jl\")\n",
        "\n",
        "@testset \"Say Hi!\" begin\n",
        "    @test hello() == \"Hello, World!\"\n",
        "end"
      ],
      "outputs": [
        {
          "output_type": "stream",
          "name": "stdout",
          "text": [
            "\u001b[37m\u001b[1mTest Summary: | \u001b[22m\u001b[39m\u001b[32m\u001b[1mPass  \u001b[22m\u001b[39m\u001b[36m\u001b[1mTotal\u001b[22m\u001b[39m\n",
            "Say Hi!       | \u001b[32m   1  \u001b[39m\u001b[36m    1\u001b[39m\n"
          ]
        },
        {
          "output_type": "execute_result",
          "execution_count": 4,
          "data": {
            "text/plain": "Test.DefaultTestSet(\"Say Hi!\", Any[], 1, false)"
          },
          "metadata": {}
        }
      ],
      "execution_count": 4,
      "metadata": {
        "execution": {
          "iopub.status.busy": "2020-08-13T07:15:33.480Z",
          "iopub.execute_input": "2020-08-13T07:15:33.486Z",
          "iopub.status.idle": "2020-08-13T07:15:33.804Z"
        }
      }
    },
    {
      "cell_type": "markdown",
      "source": [
        "## Prepare submission\n",
        "To submit your exercise, you need to save your solution in a file called `hello-world.jl` before using the CLI.\n",
        "You can either create it manually or use the following functions, which will automatically write every notebook cell that starts with `# submit` to the file `hello-world.jl`.\n"
      ],
      "metadata": {}
    },
    {
      "cell_type": "code",
      "source": [
        "using Pkg; Pkg.add(\"Exercism\")\n",
        "using Exercism\n",
        "Exercism.create_submission(\"hello-world\")"
      ],
      "outputs": [
        {
          "output_type": "stream",
          "name": "stderr",
          "text": [
            "\u001b[32m\u001b[1m  Resolving\u001b[22m\u001b[39m package versions...\n",
            "\u001b[32m\u001b[1mNo Changes\u001b[22m\u001b[39m to `~/.julia/environments/v1.5/Project.toml`\n",
            "\u001b[32m\u001b[1mNo Changes\u001b[22m\u001b[39m to `~/.julia/environments/v1.5/Manifest.toml`\n"
          ]
        },
        {
          "output_type": "execute_result",
          "execution_count": 6,
          "data": {
            "text/plain": "40"
          },
          "metadata": {}
        }
      ],
      "execution_count": 6,
      "metadata": {
        "execution": {
          "iopub.status.busy": "2020-08-13T07:19:17.055Z",
          "iopub.execute_input": "2020-08-13T07:19:17.060Z",
          "iopub.status.idle": "2020-08-13T07:19:17.309Z"
        }
      }
    }
  ],
  "metadata": {
    "kernelspec": {
      "display_name": "Julia 1.3.0",
      "language": "julia",
      "name": "julia-1.3"
    },
    "language_info": {
      "file_extension": ".jl",
      "name": "julia",
      "mimetype": "application/julia",
      "version": "1.5.0"
    },
    "nteract": {
      "version": "0.24.1"
    }
  },
  "nbformat": 4,
  "nbformat_minor": 2
}